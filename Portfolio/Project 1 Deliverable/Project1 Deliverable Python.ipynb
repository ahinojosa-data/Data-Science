{
 "cells": [
  {
   "cell_type": "markdown",
   "metadata": {},
   "source": [
    "Challenge 1\n",
    "    Define function palindrome, and defined fuction largest with bottom and top of the palindrome as varibles. Kept it simple using x, y, z using a FOR loop for x using range function with top and bottom as the inputs set up another for loop for the y function then an if statement becthat mulitplies x and if x*y is greater than zero Printed largest function with 3 digit palindrome 100,999 returned the z variable which is 906609\n",
    "    \n",
    "\n",
    "    \n",
    "    "
   ]
  },
  {
   "cell_type": "code",
   "execution_count": 21,
   "metadata": {},
   "outputs": [],
   "source": [
    "#A palindromic number reads the same both ways. For example, 1234321 is a palindrome. The largest palindrome made from the product of two two-digit numbers is 9009 = 91 × 99. \n",
    "#Find the largest palindrome made from the product of two three-digit numbers. Afterward, write a brief explanation walking through your code's logic in markdown.\n",
    "def Palindrome(num):\n",
    "    return str(num) == str(num)[::-1]\n",
    "def largestp(bot, top):\n",
    "    z = 0\n",
    "    for x in range(top, bot, -1):\n",
    "        for y in range(top, bot, -1):\n",
    "            if Palindrome(x*y):\n",
    "                if x*y > z:\n",
    "                    z = x*y\n",
    "    return z\n"
   ]
  },
  {
   "cell_type": "code",
   "execution_count": 22,
   "metadata": {},
   "outputs": [
    {
     "name": "stdout",
     "output_type": "stream",
     "text": [
      "906609\n"
     ]
    }
   ],
   "source": [
    "print(largestp(100,999))\n"
   ]
  },
  {
   "cell_type": "markdown",
   "metadata": {},
   "source": [
    "Challenge 2 \n",
    "\n",
    "Imported the Math library\n",
    "defined function prime with variable num created an if statement that if num is greater than 2 with the conditional that num modulo 2 is equal to zero (verification double equal sign)\n",
    "else return a counter i using the range function between 3 and sqrt of the number in the function. Alternate condition if num modulo i is verfication double equal sign to 0 then return false otherwise return true\n",
    "\n",
    "set up second function t_sum (total sum) that adds up the primes up to an inputed limit. Sum is a counter starting at zero incresaing by i\n",
    "\n",
    "return sum\n",
    "\n",
    "ran the test with 2000"
   ]
  },
  {
   "cell_type": "code",
   "execution_count": 27,
   "metadata": {},
   "outputs": [],
   "source": [
    "#used two functions to calculate the The sum of the primes below 10 is 2 + 3 + 5 + 7 = 17. Find the sum of all the primes below 2,000. \n",
    "#Afterward, write a brief explanation walking through your code's logic in markdown.\n",
    "import math\n",
    "\n",
    "\n",
    "def prime(num):\n",
    "    if num > 2 and num % 2 == 0:\n",
    "        return False\n",
    "    else:\n",
    "        for i in range(3, int(math.sqrt(num)) + 1, 2):\n",
    "            if num % i == 0:\n",
    "                return False\n",
    "    return True\n",
    "\n",
    "\n",
    "def t_sum(limit):\n",
    "    sum = 0\n",
    "    for i in range(2, limit):\n",
    "        if prime(i):\n",
    "            sum += i\n",
    "    \n",
    "    return sum\n",
    "\n",
    "   "
   ]
  },
  {
   "cell_type": "code",
   "execution_count": 30,
   "metadata": {},
   "outputs": [
    {
     "name": "stdout",
     "output_type": "stream",
     "text": [
      "277050\n"
     ]
    }
   ],
   "source": [
    "print(t_sum(2000))\n",
    "    "
   ]
  },
  {
   "cell_type": "markdown",
   "metadata": {},
   "source": [
    "Challenge 3\n",
    "\n",
    "started with a total sum counter equal to zero ran a for loop that intiates counter i up to range 1000 set it to identify 3 and 5 and counter i to total sum up to 1000. "
   ]
  },
  {
   "cell_type": "code",
   "execution_count": 9,
   "metadata": {},
   "outputs": [],
   "source": [
    "#If we list all of the natural numbers below 10 that are multiples of 3 or 5, we get 3, 5, 6, and 9. \n",
    "#The sum of these multiples is 23. Find the sum of all the multiples of 3 and 5 below 1,000. \n",
    "#Afterward, write a brief explanation walking through your code's logic in markdown.\n",
    "t_sum = 0\n",
    "for i in range(1000):\n",
    "    if (i % 3 == 0 or i % 5 == 0):\n",
    "        t_sum = t_sum + i\n"
   ]
  },
  {
   "cell_type": "code",
   "execution_count": 10,
   "metadata": {},
   "outputs": [
    {
     "name": "stdout",
     "output_type": "stream",
     "text": [
      "233168\n"
     ]
    }
   ],
   "source": [
    "print (t_sum)"
   ]
  },
  {
   "cell_type": "markdown",
   "metadata": {},
   "source": [
    "a for loop with a conditional statement that checks the string. counts the characters of the string then returns \n",
    "the count of the letters and moves on to the next letter counts that letter and so on\n"
   ]
  },
  {
   "cell_type": "code",
   "execution_count": null,
   "metadata": {},
   "outputs": [],
   "source": [
    "\n"
   ]
  },
  {
   "cell_type": "code",
   "execution_count": null,
   "metadata": {},
   "outputs": [],
   "source": []
  },
  {
   "cell_type": "markdown",
   "metadata": {},
   "source": [
    "a for loop using fizzbuzz and the logic behind excersie 3 mulitples of 3 and 5 with a range of 100. Creating conditional statements for the three possibilities.\n",
    "then printing fizzbuzz. "
   ]
  },
  {
   "cell_type": "code",
   "execution_count": 101,
   "metadata": {},
   "outputs": [
    {
     "name": "stdout",
     "output_type": "stream",
     "text": [
      "fizzbuzz\n",
      "0\n",
      "1\n",
      "2\n",
      "fizz\n",
      "3\n",
      "4\n",
      "buzz\n",
      "5\n",
      "fizz\n",
      "6\n",
      "7\n",
      "8\n",
      "fizz\n",
      "9\n",
      "buzz\n",
      "10\n",
      "11\n",
      "fizz\n",
      "12\n",
      "13\n",
      "14\n",
      "fizzbuzz\n",
      "15\n",
      "16\n",
      "17\n",
      "fizz\n",
      "18\n",
      "19\n",
      "buzz\n",
      "20\n",
      "fizz\n",
      "21\n",
      "22\n",
      "23\n",
      "fizz\n",
      "24\n",
      "buzz\n",
      "25\n",
      "26\n",
      "fizz\n",
      "27\n",
      "28\n",
      "29\n",
      "fizzbuzz\n",
      "30\n",
      "31\n",
      "32\n",
      "fizz\n",
      "33\n",
      "34\n",
      "buzz\n",
      "35\n",
      "fizz\n",
      "36\n",
      "37\n",
      "38\n",
      "fizz\n",
      "39\n",
      "buzz\n",
      "40\n",
      "41\n",
      "fizz\n",
      "42\n",
      "43\n",
      "44\n",
      "fizzbuzz\n",
      "45\n",
      "46\n",
      "47\n",
      "fizz\n",
      "48\n",
      "49\n",
      "buzz\n",
      "50\n",
      "fizz\n",
      "51\n",
      "52\n",
      "53\n",
      "fizz\n",
      "54\n",
      "buzz\n",
      "55\n",
      "56\n",
      "fizz\n",
      "57\n",
      "58\n",
      "59\n",
      "fizzbuzz\n",
      "60\n",
      "61\n",
      "62\n",
      "fizz\n",
      "63\n",
      "64\n",
      "buzz\n",
      "65\n",
      "fizz\n",
      "66\n",
      "67\n",
      "68\n",
      "fizz\n",
      "69\n",
      "buzz\n",
      "70\n",
      "71\n",
      "fizz\n",
      "72\n",
      "73\n",
      "74\n",
      "fizzbuzz\n",
      "75\n",
      "76\n",
      "77\n",
      "fizz\n",
      "78\n",
      "79\n",
      "buzz\n",
      "80\n",
      "fizz\n",
      "81\n",
      "82\n",
      "83\n",
      "fizz\n",
      "84\n",
      "buzz\n",
      "85\n",
      "86\n",
      "fizz\n",
      "87\n",
      "88\n",
      "89\n",
      "fizzbuzz\n",
      "90\n",
      "91\n",
      "92\n",
      "fizz\n",
      "93\n",
      "94\n",
      "buzz\n",
      "95\n",
      "fizz\n",
      "96\n",
      "97\n",
      "98\n",
      "fizz\n",
      "99\n"
     ]
    }
   ],
   "source": [
    "for fizzbuzz in range(100):\n",
    "    if fizzbuzz % 3 == 0 and fizzbuzz % 5 == 0:\n",
    "        print(\"fizzbuzz\")\n",
    "    elif fizzbuzz % 3 == 0:\n",
    "        print(\"fizz\")\n",
    "    elif fizzbuzz % 5 == 0:\n",
    "        print(\"buzz\")\n",
    "    print(fizzbuzz)\n",
    "    "
   ]
  }
 ],
 "metadata": {
  "kernelspec": {
   "display_name": "Python 3",
   "language": "python",
   "name": "python3"
  },
  "language_info": {
   "codemirror_mode": {
    "name": "ipython",
    "version": 3
   },
   "file_extension": ".py",
   "mimetype": "text/x-python",
   "name": "python",
   "nbconvert_exporter": "python",
   "pygments_lexer": "ipython3",
   "version": "3.8.3"
  }
 },
 "nbformat": 4,
 "nbformat_minor": 4
}
