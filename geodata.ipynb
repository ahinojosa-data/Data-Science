{
 "cells": [
  {
   "cell_type": "code",
   "execution_count": 7,
   "id": "09995882-0f93-4dbc-9b73-8cf9c98ab9fa",
   "metadata": {},
   "outputs": [],
   "source": [
    "import pandas as pd\n",
    "import matplotlib.pyplot as plt\n",
    "import geopandas as gpd\n",
    "from geopandas import tools\n",
    "import descartes\n",
    "import folium\n",
    "import numpy\n",
    "import geopy"
   ]
  },
  {
   "cell_type": "code",
   "execution_count": 2,
   "id": "d748fcaf-b9f4-4171-9c48-aea1b5d6f560",
   "metadata": {},
   "outputs": [],
   "source": [
    "df=pd.read_csv('414.csv')"
   ]
  },
  {
   "cell_type": "code",
   "execution_count": 29,
   "id": "9be1aeb5-8c56-4b53-aa67-be3b1a07ffbf",
   "metadata": {},
   "outputs": [
    {
     "data": {
      "text/html": [
       "<div>\n",
       "<style scoped>\n",
       "    .dataframe tbody tr th:only-of-type {\n",
       "        vertical-align: middle;\n",
       "    }\n",
       "\n",
       "    .dataframe tbody tr th {\n",
       "        vertical-align: top;\n",
       "    }\n",
       "\n",
       "    .dataframe thead th {\n",
       "        text-align: right;\n",
       "    }\n",
       "</style>\n",
       "<table border=\"1\" class=\"dataframe\">\n",
       "  <thead>\n",
       "    <tr style=\"text-align: right;\">\n",
       "      <th></th>\n",
       "      <th>geometry</th>\n",
       "      <th>address</th>\n",
       "    </tr>\n",
       "  </thead>\n",
       "  <tbody>\n",
       "    <tr>\n",
       "      <th>0</th>\n",
       "      <td>POINT (70.86977 37.39818)</td>\n",
       "      <td>Kamar Saighan, ولایت بدخشان, افغانستان</td>\n",
       "    </tr>\n",
       "  </tbody>\n",
       "</table>\n",
       "</div>"
      ],
      "text/plain": [
       "                    geometry                                 address\n",
       "0  POINT (70.86977 37.39818)  Kamar Saighan, ولایت بدخشان, افغانستان"
      ]
     },
     "execution_count": 29,
     "metadata": {},
     "output_type": "execute_result"
    }
   ],
   "source": [
    "gpd.tools.geocode([\"Saighan\"], \"photon\")"
   ]
  },
  {
   "cell_type": "code",
   "execution_count": 3,
   "id": "fa8a3a08-007a-4443-bec5-1fa48bbafbf2",
   "metadata": {},
   "outputs": [
    {
     "name": "stdout",
     "output_type": "stream",
     "text": [
      "Rows     :  33285\n",
      "Columns  :  14\n",
      "\n",
      "Features : \n",
      " ['radio', 'mcc', 'net', 'area', 'cell', 'unit', 'lon', 'lat', 'range', 'samples', 'changeable', 'created', 'updated', 'averageSignal']\n",
      "\n",
      "Missing values :   0\n",
      "\n",
      "Unique values :  \n",
      " radio                4\n",
      "mcc                  1\n",
      "net                  5\n",
      "area               534\n",
      "cell             29414\n",
      "unit                15\n",
      "lon               8790\n",
      "lat              10315\n",
      "range             1115\n",
      "samples            226\n",
      "changeable           1\n",
      "created          10311\n",
      "updated           9890\n",
      "averageSignal        1\n",
      "dtype: int64\n",
      "\n",
      "First 5 Rows :  \n",
      "   radio  mcc  net  area     cell  unit        lon        lat  range  samples  \\\n",
      "0   GSM  414    1  8018    30523     0  97.898483  23.989334   1000        1   \n",
      "1   GSM  414    1  8018    30441     0  97.898483  23.989334   1000        1   \n",
      "2  UMTS  414    1  3051  2615926     0  96.118698  19.711427   1000       13   \n",
      "3  UMTS  414    1  7001   132286     0  96.185715  16.771317   1000        5   \n",
      "4  UMTS  414    1  7001   132283     0  96.187737  16.769569   1000       11   \n",
      "\n",
      "   changeable     created     updated  averageSignal  \n",
      "0           1  1459678518  1459678518              0  \n",
      "1           1  1459678518  1459678518              0  \n",
      "2           1  1349960430  1349960430              0  \n",
      "3           1  1349759072  1349759072              0  \n",
      "4           1  1350288985  1378080406              0  \n",
      "\n",
      "Last 5 Rows :  \n",
      "       radio  mcc  net   area      cell  unit        lon        lat  range  \\\n",
      "33280   LTE  414    9  10744  25929503     0  96.205704  16.895350   1000   \n",
      "33281   LTE  414    9  10744  25754401     0  96.211517  16.892328   1000   \n",
      "33282   LTE  414    1  14004  35850005     0  96.478157  18.954763   1000   \n",
      "33283  UMTS  414    1    556   3618354     0  96.480392  18.958950   1000   \n",
      "33284  UMTS  414    1    556   3665781     0  96.480392  18.958948   1000   \n",
      "\n",
      "       samples  changeable     created     updated  averageSignal  \n",
      "33280        1           1  1591098225  1591098225              0  \n",
      "33281        2           1  1591102319  1591104106              0  \n",
      "33282        1           1  1591188233  1591188233              0  \n",
      "33283        1           1  1591530481  1591530481              0  \n",
      "33284        1           1  1591531873  1591531873              0  \n"
     ]
    }
   ],
   "source": [
    "print (\"Rows     : \" ,df.shape[0])\n",
    "print (\"Columns  : \" ,df.shape[1])\n",
    "print (\"\\nFeatures : \\n\" ,df.columns.tolist())\n",
    "print (\"\\nMissing values :  \", df.isnull().sum().values.sum())\n",
    "print (\"\\nUnique values :  \\n\",df.nunique())\n",
    "\n",
    "print(\"\\nFirst 5 Rows :  \\n\",df.head())\n",
    "\n",
    "print(\"\\nLast 5 Rows :  \\n\",df.tail())"
   ]
  },
  {
   "cell_type": "code",
   "execution_count": 62,
   "id": "8a730cc1-d354-48ed-8c2b-ba377bfd0093",
   "metadata": {},
   "outputs": [
    {
     "data": {
      "text/plain": [
       "1"
      ]
     },
     "execution_count": 62,
     "metadata": {},
     "output_type": "execute_result"
    }
   ],
   "source": [
    "df['changeable'].min()"
   ]
  },
  {
   "cell_type": "code",
   "execution_count": 92,
   "id": "8232ae59-fafc-4c1d-b04e-159f3cd7ac15",
   "metadata": {},
   "outputs": [],
   "source": [
    "df2=df.drop_duplicates(subset = ['lon', 'lat'])"
   ]
  },
  {
   "cell_type": "code",
   "execution_count": 94,
   "id": "7c504ec5-6b71-4927-bd3b-3bf30c4636f4",
   "metadata": {},
   "outputs": [],
   "source": [
    "df3 = df2.drop_duplicates(subset=['cell'])"
   ]
  },
  {
   "cell_type": "code",
   "execution_count": 108,
   "id": "02ff917e-67ff-40b0-aed5-749f3ae35908",
   "metadata": {},
   "outputs": [
    {
     "data": {
      "text/html": [
       "<div>\n",
       "<style scoped>\n",
       "    .dataframe tbody tr th:only-of-type {\n",
       "        vertical-align: middle;\n",
       "    }\n",
       "\n",
       "    .dataframe tbody tr th {\n",
       "        vertical-align: top;\n",
       "    }\n",
       "\n",
       "    .dataframe thead th {\n",
       "        text-align: right;\n",
       "    }\n",
       "</style>\n",
       "<table border=\"1\" class=\"dataframe\">\n",
       "  <thead>\n",
       "    <tr style=\"text-align: right;\">\n",
       "      <th></th>\n",
       "      <th>radio</th>\n",
       "      <th>mcc</th>\n",
       "      <th>net</th>\n",
       "      <th>area</th>\n",
       "      <th>cell</th>\n",
       "      <th>unit</th>\n",
       "      <th>lon</th>\n",
       "      <th>lat</th>\n",
       "      <th>range</th>\n",
       "      <th>samples</th>\n",
       "      <th>changeable</th>\n",
       "      <th>created</th>\n",
       "      <th>updated</th>\n",
       "      <th>averageSignal</th>\n",
       "    </tr>\n",
       "  </thead>\n",
       "  <tbody>\n",
       "    <tr>\n",
       "      <th>0</th>\n",
       "      <td>GSM</td>\n",
       "      <td>414</td>\n",
       "      <td>1</td>\n",
       "      <td>8018</td>\n",
       "      <td>30523</td>\n",
       "      <td>0</td>\n",
       "      <td>97.898483</td>\n",
       "      <td>23.989334</td>\n",
       "      <td>1000</td>\n",
       "      <td>1</td>\n",
       "      <td>1</td>\n",
       "      <td>1459678518</td>\n",
       "      <td>1459678518</td>\n",
       "      <td>0</td>\n",
       "    </tr>\n",
       "    <tr>\n",
       "      <th>2</th>\n",
       "      <td>UMTS</td>\n",
       "      <td>414</td>\n",
       "      <td>1</td>\n",
       "      <td>3051</td>\n",
       "      <td>2615926</td>\n",
       "      <td>0</td>\n",
       "      <td>96.118698</td>\n",
       "      <td>19.711427</td>\n",
       "      <td>1000</td>\n",
       "      <td>13</td>\n",
       "      <td>1</td>\n",
       "      <td>1349960430</td>\n",
       "      <td>1349960430</td>\n",
       "      <td>0</td>\n",
       "    </tr>\n",
       "    <tr>\n",
       "      <th>3</th>\n",
       "      <td>UMTS</td>\n",
       "      <td>414</td>\n",
       "      <td>1</td>\n",
       "      <td>7001</td>\n",
       "      <td>132286</td>\n",
       "      <td>0</td>\n",
       "      <td>96.185715</td>\n",
       "      <td>16.771317</td>\n",
       "      <td>1000</td>\n",
       "      <td>5</td>\n",
       "      <td>1</td>\n",
       "      <td>1349759072</td>\n",
       "      <td>1349759072</td>\n",
       "      <td>0</td>\n",
       "    </tr>\n",
       "    <tr>\n",
       "      <th>4</th>\n",
       "      <td>UMTS</td>\n",
       "      <td>414</td>\n",
       "      <td>1</td>\n",
       "      <td>7001</td>\n",
       "      <td>132283</td>\n",
       "      <td>0</td>\n",
       "      <td>96.187737</td>\n",
       "      <td>16.769569</td>\n",
       "      <td>1000</td>\n",
       "      <td>11</td>\n",
       "      <td>1</td>\n",
       "      <td>1350288985</td>\n",
       "      <td>1378080406</td>\n",
       "      <td>0</td>\n",
       "    </tr>\n",
       "    <tr>\n",
       "      <th>5</th>\n",
       "      <td>GSM</td>\n",
       "      <td>414</td>\n",
       "      <td>1</td>\n",
       "      <td>8018</td>\n",
       "      <td>30151</td>\n",
       "      <td>0</td>\n",
       "      <td>97.894167</td>\n",
       "      <td>23.980947</td>\n",
       "      <td>1000</td>\n",
       "      <td>56</td>\n",
       "      <td>1</td>\n",
       "      <td>1360417553</td>\n",
       "      <td>1443871038</td>\n",
       "      <td>0</td>\n",
       "    </tr>\n",
       "    <tr>\n",
       "      <th>...</th>\n",
       "      <td>...</td>\n",
       "      <td>...</td>\n",
       "      <td>...</td>\n",
       "      <td>...</td>\n",
       "      <td>...</td>\n",
       "      <td>...</td>\n",
       "      <td>...</td>\n",
       "      <td>...</td>\n",
       "      <td>...</td>\n",
       "      <td>...</td>\n",
       "      <td>...</td>\n",
       "      <td>...</td>\n",
       "      <td>...</td>\n",
       "      <td>...</td>\n",
       "    </tr>\n",
       "    <tr>\n",
       "      <th>33280</th>\n",
       "      <td>LTE</td>\n",
       "      <td>414</td>\n",
       "      <td>9</td>\n",
       "      <td>10744</td>\n",
       "      <td>25929503</td>\n",
       "      <td>0</td>\n",
       "      <td>96.205704</td>\n",
       "      <td>16.895350</td>\n",
       "      <td>1000</td>\n",
       "      <td>1</td>\n",
       "      <td>1</td>\n",
       "      <td>1591098225</td>\n",
       "      <td>1591098225</td>\n",
       "      <td>0</td>\n",
       "    </tr>\n",
       "    <tr>\n",
       "      <th>33281</th>\n",
       "      <td>LTE</td>\n",
       "      <td>414</td>\n",
       "      <td>9</td>\n",
       "      <td>10744</td>\n",
       "      <td>25754401</td>\n",
       "      <td>0</td>\n",
       "      <td>96.211517</td>\n",
       "      <td>16.892328</td>\n",
       "      <td>1000</td>\n",
       "      <td>2</td>\n",
       "      <td>1</td>\n",
       "      <td>1591102319</td>\n",
       "      <td>1591104106</td>\n",
       "      <td>0</td>\n",
       "    </tr>\n",
       "    <tr>\n",
       "      <th>33282</th>\n",
       "      <td>LTE</td>\n",
       "      <td>414</td>\n",
       "      <td>1</td>\n",
       "      <td>14004</td>\n",
       "      <td>35850005</td>\n",
       "      <td>0</td>\n",
       "      <td>96.478157</td>\n",
       "      <td>18.954763</td>\n",
       "      <td>1000</td>\n",
       "      <td>1</td>\n",
       "      <td>1</td>\n",
       "      <td>1591188233</td>\n",
       "      <td>1591188233</td>\n",
       "      <td>0</td>\n",
       "    </tr>\n",
       "    <tr>\n",
       "      <th>33283</th>\n",
       "      <td>UMTS</td>\n",
       "      <td>414</td>\n",
       "      <td>1</td>\n",
       "      <td>556</td>\n",
       "      <td>3618354</td>\n",
       "      <td>0</td>\n",
       "      <td>96.480392</td>\n",
       "      <td>18.958950</td>\n",
       "      <td>1000</td>\n",
       "      <td>1</td>\n",
       "      <td>1</td>\n",
       "      <td>1591530481</td>\n",
       "      <td>1591530481</td>\n",
       "      <td>0</td>\n",
       "    </tr>\n",
       "    <tr>\n",
       "      <th>33284</th>\n",
       "      <td>UMTS</td>\n",
       "      <td>414</td>\n",
       "      <td>1</td>\n",
       "      <td>556</td>\n",
       "      <td>3665781</td>\n",
       "      <td>0</td>\n",
       "      <td>96.480392</td>\n",
       "      <td>18.958948</td>\n",
       "      <td>1000</td>\n",
       "      <td>1</td>\n",
       "      <td>1</td>\n",
       "      <td>1591531873</td>\n",
       "      <td>1591531873</td>\n",
       "      <td>0</td>\n",
       "    </tr>\n",
       "  </tbody>\n",
       "</table>\n",
       "<p>20894 rows × 14 columns</p>\n",
       "</div>"
      ],
      "text/plain": [
       "      radio  mcc  net   area      cell  unit        lon        lat  range  \\\n",
       "0       GSM  414    1   8018     30523     0  97.898483  23.989334   1000   \n",
       "2      UMTS  414    1   3051   2615926     0  96.118698  19.711427   1000   \n",
       "3      UMTS  414    1   7001    132286     0  96.185715  16.771317   1000   \n",
       "4      UMTS  414    1   7001    132283     0  96.187737  16.769569   1000   \n",
       "5       GSM  414    1   8018     30151     0  97.894167  23.980947   1000   \n",
       "...     ...  ...  ...    ...       ...   ...        ...        ...    ...   \n",
       "33280   LTE  414    9  10744  25929503     0  96.205704  16.895350   1000   \n",
       "33281   LTE  414    9  10744  25754401     0  96.211517  16.892328   1000   \n",
       "33282   LTE  414    1  14004  35850005     0  96.478157  18.954763   1000   \n",
       "33283  UMTS  414    1    556   3618354     0  96.480392  18.958950   1000   \n",
       "33284  UMTS  414    1    556   3665781     0  96.480392  18.958948   1000   \n",
       "\n",
       "       samples  changeable     created     updated  averageSignal  \n",
       "0            1           1  1459678518  1459678518              0  \n",
       "2           13           1  1349960430  1349960430              0  \n",
       "3            5           1  1349759072  1349759072              0  \n",
       "4           11           1  1350288985  1378080406              0  \n",
       "5           56           1  1360417553  1443871038              0  \n",
       "...        ...         ...         ...         ...            ...  \n",
       "33280        1           1  1591098225  1591098225              0  \n",
       "33281        2           1  1591102319  1591104106              0  \n",
       "33282        1           1  1591188233  1591188233              0  \n",
       "33283        1           1  1591530481  1591530481              0  \n",
       "33284        1           1  1591531873  1591531873              0  \n",
       "\n",
       "[20894 rows x 14 columns]"
      ]
     },
     "execution_count": 108,
     "metadata": {},
     "output_type": "execute_result"
    }
   ],
   "source": [
    "df3"
   ]
  },
  {
   "cell_type": "code",
   "execution_count": 107,
   "id": "271caea5-023a-4cb3-b1ab-3bd64218377c",
   "metadata": {},
   "outputs": [
    {
     "data": {
      "text/html": [
       "<div>\n",
       "<style scoped>\n",
       "    .dataframe tbody tr th:only-of-type {\n",
       "        vertical-align: middle;\n",
       "    }\n",
       "\n",
       "    .dataframe tbody tr th {\n",
       "        vertical-align: top;\n",
       "    }\n",
       "\n",
       "    .dataframe thead th {\n",
       "        text-align: right;\n",
       "    }\n",
       "</style>\n",
       "<table border=\"1\" class=\"dataframe\">\n",
       "  <thead>\n",
       "    <tr style=\"text-align: right;\">\n",
       "      <th></th>\n",
       "      <th>radio</th>\n",
       "      <th>mcc</th>\n",
       "      <th>net</th>\n",
       "      <th>area</th>\n",
       "      <th>cell</th>\n",
       "      <th>unit</th>\n",
       "      <th>lon</th>\n",
       "      <th>lat</th>\n",
       "      <th>range</th>\n",
       "      <th>samples</th>\n",
       "      <th>changeable</th>\n",
       "      <th>created</th>\n",
       "      <th>updated</th>\n",
       "      <th>averageSignal</th>\n",
       "    </tr>\n",
       "  </thead>\n",
       "  <tbody>\n",
       "    <tr>\n",
       "      <th>0</th>\n",
       "      <td>GSM</td>\n",
       "      <td>414</td>\n",
       "      <td>1</td>\n",
       "      <td>8018</td>\n",
       "      <td>30523</td>\n",
       "      <td>0</td>\n",
       "      <td>97.898483</td>\n",
       "      <td>23.989334</td>\n",
       "      <td>1000</td>\n",
       "      <td>1</td>\n",
       "      <td>1</td>\n",
       "      <td>1459678518</td>\n",
       "      <td>1459678518</td>\n",
       "      <td>0</td>\n",
       "    </tr>\n",
       "    <tr>\n",
       "      <th>2</th>\n",
       "      <td>UMTS</td>\n",
       "      <td>414</td>\n",
       "      <td>1</td>\n",
       "      <td>3051</td>\n",
       "      <td>2615926</td>\n",
       "      <td>0</td>\n",
       "      <td>96.118698</td>\n",
       "      <td>19.711427</td>\n",
       "      <td>1000</td>\n",
       "      <td>13</td>\n",
       "      <td>1</td>\n",
       "      <td>1349960430</td>\n",
       "      <td>1349960430</td>\n",
       "      <td>0</td>\n",
       "    </tr>\n",
       "    <tr>\n",
       "      <th>3</th>\n",
       "      <td>UMTS</td>\n",
       "      <td>414</td>\n",
       "      <td>1</td>\n",
       "      <td>7001</td>\n",
       "      <td>132286</td>\n",
       "      <td>0</td>\n",
       "      <td>96.185715</td>\n",
       "      <td>16.771317</td>\n",
       "      <td>1000</td>\n",
       "      <td>5</td>\n",
       "      <td>1</td>\n",
       "      <td>1349759072</td>\n",
       "      <td>1349759072</td>\n",
       "      <td>0</td>\n",
       "    </tr>\n",
       "    <tr>\n",
       "      <th>4</th>\n",
       "      <td>UMTS</td>\n",
       "      <td>414</td>\n",
       "      <td>1</td>\n",
       "      <td>7001</td>\n",
       "      <td>132283</td>\n",
       "      <td>0</td>\n",
       "      <td>96.187737</td>\n",
       "      <td>16.769569</td>\n",
       "      <td>1000</td>\n",
       "      <td>11</td>\n",
       "      <td>1</td>\n",
       "      <td>1350288985</td>\n",
       "      <td>1378080406</td>\n",
       "      <td>0</td>\n",
       "    </tr>\n",
       "    <tr>\n",
       "      <th>5</th>\n",
       "      <td>GSM</td>\n",
       "      <td>414</td>\n",
       "      <td>1</td>\n",
       "      <td>8018</td>\n",
       "      <td>30151</td>\n",
       "      <td>0</td>\n",
       "      <td>97.894167</td>\n",
       "      <td>23.980947</td>\n",
       "      <td>1000</td>\n",
       "      <td>56</td>\n",
       "      <td>1</td>\n",
       "      <td>1360417553</td>\n",
       "      <td>1443871038</td>\n",
       "      <td>0</td>\n",
       "    </tr>\n",
       "    <tr>\n",
       "      <th>...</th>\n",
       "      <td>...</td>\n",
       "      <td>...</td>\n",
       "      <td>...</td>\n",
       "      <td>...</td>\n",
       "      <td>...</td>\n",
       "      <td>...</td>\n",
       "      <td>...</td>\n",
       "      <td>...</td>\n",
       "      <td>...</td>\n",
       "      <td>...</td>\n",
       "      <td>...</td>\n",
       "      <td>...</td>\n",
       "      <td>...</td>\n",
       "      <td>...</td>\n",
       "    </tr>\n",
       "    <tr>\n",
       "      <th>33280</th>\n",
       "      <td>LTE</td>\n",
       "      <td>414</td>\n",
       "      <td>9</td>\n",
       "      <td>10744</td>\n",
       "      <td>25929503</td>\n",
       "      <td>0</td>\n",
       "      <td>96.205704</td>\n",
       "      <td>16.895350</td>\n",
       "      <td>1000</td>\n",
       "      <td>1</td>\n",
       "      <td>1</td>\n",
       "      <td>1591098225</td>\n",
       "      <td>1591098225</td>\n",
       "      <td>0</td>\n",
       "    </tr>\n",
       "    <tr>\n",
       "      <th>33281</th>\n",
       "      <td>LTE</td>\n",
       "      <td>414</td>\n",
       "      <td>9</td>\n",
       "      <td>10744</td>\n",
       "      <td>25754401</td>\n",
       "      <td>0</td>\n",
       "      <td>96.211517</td>\n",
       "      <td>16.892328</td>\n",
       "      <td>1000</td>\n",
       "      <td>2</td>\n",
       "      <td>1</td>\n",
       "      <td>1591102319</td>\n",
       "      <td>1591104106</td>\n",
       "      <td>0</td>\n",
       "    </tr>\n",
       "    <tr>\n",
       "      <th>33282</th>\n",
       "      <td>LTE</td>\n",
       "      <td>414</td>\n",
       "      <td>1</td>\n",
       "      <td>14004</td>\n",
       "      <td>35850005</td>\n",
       "      <td>0</td>\n",
       "      <td>96.478157</td>\n",
       "      <td>18.954763</td>\n",
       "      <td>1000</td>\n",
       "      <td>1</td>\n",
       "      <td>1</td>\n",
       "      <td>1591188233</td>\n",
       "      <td>1591188233</td>\n",
       "      <td>0</td>\n",
       "    </tr>\n",
       "    <tr>\n",
       "      <th>33283</th>\n",
       "      <td>UMTS</td>\n",
       "      <td>414</td>\n",
       "      <td>1</td>\n",
       "      <td>556</td>\n",
       "      <td>3618354</td>\n",
       "      <td>0</td>\n",
       "      <td>96.480392</td>\n",
       "      <td>18.958950</td>\n",
       "      <td>1000</td>\n",
       "      <td>1</td>\n",
       "      <td>1</td>\n",
       "      <td>1591530481</td>\n",
       "      <td>1591530481</td>\n",
       "      <td>0</td>\n",
       "    </tr>\n",
       "    <tr>\n",
       "      <th>33284</th>\n",
       "      <td>UMTS</td>\n",
       "      <td>414</td>\n",
       "      <td>1</td>\n",
       "      <td>556</td>\n",
       "      <td>3665781</td>\n",
       "      <td>0</td>\n",
       "      <td>96.480392</td>\n",
       "      <td>18.958948</td>\n",
       "      <td>1000</td>\n",
       "      <td>1</td>\n",
       "      <td>1</td>\n",
       "      <td>1591531873</td>\n",
       "      <td>1591531873</td>\n",
       "      <td>0</td>\n",
       "    </tr>\n",
       "  </tbody>\n",
       "</table>\n",
       "<p>20894 rows × 14 columns</p>\n",
       "</div>"
      ],
      "text/plain": [
       "      radio  mcc  net   area      cell  unit        lon        lat  range  \\\n",
       "0       GSM  414    1   8018     30523     0  97.898483  23.989334   1000   \n",
       "2      UMTS  414    1   3051   2615926     0  96.118698  19.711427   1000   \n",
       "3      UMTS  414    1   7001    132286     0  96.185715  16.771317   1000   \n",
       "4      UMTS  414    1   7001    132283     0  96.187737  16.769569   1000   \n",
       "5       GSM  414    1   8018     30151     0  97.894167  23.980947   1000   \n",
       "...     ...  ...  ...    ...       ...   ...        ...        ...    ...   \n",
       "33280   LTE  414    9  10744  25929503     0  96.205704  16.895350   1000   \n",
       "33281   LTE  414    9  10744  25754401     0  96.211517  16.892328   1000   \n",
       "33282   LTE  414    1  14004  35850005     0  96.478157  18.954763   1000   \n",
       "33283  UMTS  414    1    556   3618354     0  96.480392  18.958950   1000   \n",
       "33284  UMTS  414    1    556   3665781     0  96.480392  18.958948   1000   \n",
       "\n",
       "       samples  changeable     created     updated  averageSignal  \n",
       "0            1           1  1459678518  1459678518              0  \n",
       "2           13           1  1349960430  1349960430              0  \n",
       "3            5           1  1349759072  1349759072              0  \n",
       "4           11           1  1350288985  1378080406              0  \n",
       "5           56           1  1360417553  1443871038              0  \n",
       "...        ...         ...         ...         ...            ...  \n",
       "33280        1           1  1591098225  1591098225              0  \n",
       "33281        2           1  1591102319  1591104106              0  \n",
       "33282        1           1  1591188233  1591188233              0  \n",
       "33283        1           1  1591530481  1591530481              0  \n",
       "33284        1           1  1591531873  1591531873              0  \n",
       "\n",
       "[20894 rows x 14 columns]"
      ]
     },
     "execution_count": 107,
     "metadata": {},
     "output_type": "execute_result"
    }
   ],
   "source": [
    "df3"
   ]
  },
  {
   "cell_type": "code",
   "execution_count": 110,
   "id": "72363962-eaa8-4236-a039-574c6baf3733",
   "metadata": {},
   "outputs": [],
   "source": [
    "df3_lon = df3['lon']"
   ]
  },
  {
   "cell_type": "code",
   "execution_count": 109,
   "id": "2ca8a2db-aa69-41b3-8a28-eb1ff2911ffe",
   "metadata": {},
   "outputs": [],
   "source": [
    "df3_lat = df3['lat']"
   ]
  },
  {
   "cell_type": "code",
   "execution_count": 111,
   "id": "61cdfa1c-e600-4a93-975e-281f76e65523",
   "metadata": {},
   "outputs": [
    {
     "data": {
      "image/png": "[encoded data removed]",
      "text/plain": [
       "<Figure size 432x288 with 1 Axes>"
      ]
     },
     "metadata": {
      "needs_background": "light"
     },
     "output_type": "display_data"
    }
   ],
   "source": [
    "cell_data=plt.scatter(df3_lon, df3_lat, c = 'black', edgecolor = \"white\")"
   ]
  },
  {
   "cell_type": "code",
   "execution_count": 102,
   "id": "288f63a8-e29e-418d-8ae9-3c61e097e7d7",
   "metadata": {},
   "outputs": [],
   "source": [
    "geo_df = gpd.read_file('mmr_polbnda_adm0_mimu_250k\\mmr_polbnda_adm0_mimu_250k.shp')"
   ]
  },
  {
   "cell_type": "code",
   "execution_count": 172,
   "id": "a3ca1e98-1069-4b7c-99dd-97f6dad96cbe",
   "metadata": {},
   "outputs": [
    {
     "data": {
      "text/plain": [
       "<AxesSubplot:>"
      ]
     },
     "execution_count": 172,
     "metadata": {},
     "output_type": "execute_result"
    },
    {
     "data": {
      "image/png": "[encoded data removed]",
      "text/plain": [
       "<Figure size 432x288 with 1 Axes>"
      ]
     },
     "metadata": {
      "needs_background": "light"
     },
     "output_type": "display_data"
    }
   ],
   "source": [
    "gpf = gpd.read_file(\"country.geojson\")\n",
    "gpf.plot()"
   ]
  },
  {
   "cell_type": "code",
   "execution_count": 114,
   "id": "03d208e3-8ed1-4f21-bec0-1b214c191693",
   "metadata": {},
   "outputs": [
    {
     "data": {
      "text/plain": [
       "<AxesSubplot:>"
      ]
     },
     "execution_count": 114,
     "metadata": {},
     "output_type": "execute_result"
    },
    {
     "data": {
      "image/png": "[encoded data removed]",
      "text/plain": [
       "<Figure size 432x288 with 1 Axes>"
      ]
     },
     "metadata": {
      "needs_background": "light"
     },
     "output_type": "display_data"
    }
   ],
   "source": [
    "geo_df.plot( legend = True, cmap = 'Dark2')"
   ]
  },
  {
   "cell_type": "code",
   "execution_count": 115,
   "id": "ac4e2c6d-827e-48ac-b5df-8dcaa67c68f3",
   "metadata": {},
   "outputs": [
    {
     "data": {
      "image/png": "[encoded data removed]",
      "text/plain": [
       "<Figure size 432x288 with 1 Axes>"
      ]
     },
     "metadata": {
      "needs_background": "light"
     },
     "output_type": "display_data"
    }
   ],
   "source": [
    "geo_df.plot( legend = True, cmap = 'Dark2')\n",
    "cell_data=plt.scatter(df3_lon, df3_lat, c = 'black', edgecolor = \"white\")"
   ]
  },
  {
   "cell_type": "code",
   "execution_count": 53,
   "id": "0b9909f2-3dce-4aa6-a1fb-934fa481d0aa",
   "metadata": {},
   "outputs": [
    {
     "data": {
      "text/plain": [
       "['naturalearth_cities', 'naturalearth_lowres', 'nybb']"
      ]
     },
     "execution_count": 53,
     "metadata": {},
     "output_type": "execute_result"
    }
   ],
   "source": [
    "gpd.datasets.available"
   ]
  },
  {
   "cell_type": "code",
   "execution_count": 224,
   "id": "1b0fe772-377a-400b-8e61-8195bc1fcfa6",
   "metadata": {},
   "outputs": [
    {
     "data": {
      "text/plain": [
       "0    MULTIPOLYGON (((97.90662 9.67171, 97.90625 9.6...\n",
       "Name: geometry, dtype: geometry"
      ]
     },
     "execution_count": 224,
     "metadata": {},
     "output_type": "execute_result"
    }
   ],
   "source": [
    "geo_df.geometry"
   ]
  },
  {
   "cell_type": "code",
   "execution_count": 106,
   "id": "334fc311-e122-4b7c-bcbe-d2ac420b3f54",
   "metadata": {},
   "outputs": [
    {
     "data": {
      "text/plain": [
       "<matplotlib.collections.PathCollection at 0x25917a095b0>"
      ]
     },
     "execution_count": 106,
     "metadata": {},
     "output_type": "execute_result"
    },
    {
     "data": {
      "image/png": "[encoded data removed]",
      "text/plain": [
       "<Figure size 432x288 with 1 Axes>"
      ]
     },
     "metadata": {
      "needs_background": "light"
     },
     "output_type": "display_data"
    }
   ],
   "source": [
    "geo_df.plot(legend = True, cmap = 'Dark2')\n",
    "plt.scatter(df2_lon, df2_lat, c = 'black', edgecolor = \"white\")"
   ]
  },
  {
   "cell_type": "code",
   "execution_count": 134,
   "id": "d23e60af-f71e-4b21-9960-8a4fd3c7594c",
   "metadata": {},
   "outputs": [],
   "source": [
    "counties_gdf = gpd.read_file('https://storage.googleapis.com/co-publicdata/lm_cnty.zip')"
   ]
  },
  {
   "cell_type": "code",
   "execution_count": 197,
   "id": "9760daa6-f72e-4b7a-9526-1e212f9cc902",
   "metadata": {},
   "outputs": [],
   "source": [
    "center_point=gpf.centroid"
   ]
  },
  {
   "cell_type": "code",
   "execution_count": 198,
   "id": "1cbcee61-403a-43c5-9536-f4ee381dce52",
   "metadata": {},
   "outputs": [
    {
     "name": "stdout",
     "output_type": "stream",
     "text": [
      "0    POINT (96.50761 21.12013)\n",
      "dtype: geometry\n"
     ]
    }
   ],
   "source": [
    "type(center_point)\n",
    "print(center_point)"
   ]
  },
  {
   "cell_type": "code",
   "execution_count": 221,
   "id": "dae35b9a-9f08-462d-961a-919b20e519a2",
   "metadata": {},
   "outputs": [],
   "source": [
    "fcenter=[center_point.y, center_point.x]"
   ]
  },
  {
   "cell_type": "code",
   "execution_count": 228,
   "id": "5faf4963-3b2b-464f-b1bb-b2cf29e95cb5",
   "metadata": {},
   "outputs": [
    {
     "data": {
      "text/html": [
       "<div style=\"width:100%;\"><div style=\"position:relative;width:100%;height:0;padding-bottom:60%;\"><span style=\"color:#565656\">Make this Notebook Trusted to load map: File -> Trust Notebook</span><iframe src=\"about:blank\" style=\"position:absolute;width:100%;height:100%;left:0;top:0;border:none !important;\" data-html=%3C%21DOCTYPE%20html%3E%0A%3Chead%3E%20%20%20%20%0A%20%20%20%20%3Cmeta%20http-equiv%3D%22content-type%22%20content%3D%22text/html%3B%20charset%3DUTF-8%22%20/%3E%0A%20%20%20%20%0A%20%20%20%20%20%20%20%20%3Cscript%3E%0A%20%20%20%20%20%20%20%20%20%20%20%20L_NO_TOUCH%20%3D%20false%3B%0A%20%20%20%20%20%20%20%20%20%20%20%20L_DISABLE_3D%20%3D%20false%3B%0A%20%20%20%20%20%20%20%20%3C/script%3E%0A%20%20%20%20%0A%20%20%20%20%3Cstyle%3Ehtml%2C%20body%20%7Bwidth%3A%20100%25%3Bheight%3A%20100%25%3Bmargin%3A%200%3Bpadding%3A%200%3B%7D%3C/style%3E%0A%20%20%20%20%3Cstyle%3E%23map%20%7Bposition%3Aabsolute%3Btop%3A0%3Bbottom%3A0%3Bright%3A0%3Bleft%3A0%3B%7D%3C/style%3E%0A%20%20%20%20%3Cscript%20src%3D%22https%3A//cdn.jsdelivr.net/npm/leaflet%401.6.0/dist/leaflet.js%22%3E%3C/script%3E%0A%20%20%20%20%3Cscript%20src%3D%22https%3A//code.jquery.com/jquery-1.12.4.min.js%22%3E%3C/script%3E%0A%20%20%20%20%3Cscript%20src%3D%22https%3A//maxcdn.bootstrapcdn.com/bootstrap/3.2.0/js/bootstrap.min.js%22%3E%3C/script%3E%0A%20%20%20%20%3Cscript%20src%3D%22https%3A//cdnjs.cloudflare.com/ajax/libs/Leaflet.awesome-markers/2.0.2/leaflet.awesome-markers.js%22%3E%3C/script%3E%0A%20%20%20%20%3Clink%20rel%3D%22stylesheet%22%20href%3D%22https%3A//cdn.jsdelivr.net/npm/leaflet%401.6.0/dist/leaflet.css%22/%3E%0A%20%20%20%20%3Clink%20rel%3D%22stylesheet%22%20href%3D%22https%3A//maxcdn.bootstrapcdn.com/bootstrap/3.2.0/css/bootstrap.min.css%22/%3E%0A%20%20%20%20%3Clink%20rel%3D%22stylesheet%22%20href%3D%22https%3A//maxcdn.bootstrapcdn.com/bootstrap/3.2.0/css/bootstrap-theme.min.css%22/%3E%0A%20%20%20%20%3Clink%20rel%3D%22stylesheet%22%20href%3D%22https%3A//maxcdn.bootstrapcdn.com/font-awesome/4.6.3/css/font-awesome.min.css%22/%3E%0A%20%20%20%20%3Clink%20rel%3D%22stylesheet%22%20href%3D%22https%3A//cdnjs.cloudflare.com/ajax/libs/Leaflet.awesome-markers/2.0.2/leaflet.awesome-markers.css%22/%3E%0A%20%20%20%20%3Clink%20rel%3D%22stylesheet%22%20href%3D%22https%3A//cdn.jsdelivr.net/gh/python-visualization/folium/folium/templates/leaflet.awesome.rotate.min.css%22/%3E%0A%20%20%20%20%0A%20%20%20%20%20%20%20%20%20%20%20%20%3Cmeta%20name%3D%22viewport%22%20content%3D%22width%3Ddevice-width%2C%0A%20%20%20%20%20%20%20%20%20%20%20%20%20%20%20%20initial-scale%3D1.0%2C%20maximum-scale%3D1.0%2C%20user-scalable%3Dno%22%20/%3E%0A%20%20%20%20%20%20%20%20%20%20%20%20%3Cstyle%3E%0A%20%20%20%20%20%20%20%20%20%20%20%20%20%20%20%20%23map_5b4391f270d5436fb4b69e49bae483dc%20%7B%0A%20%20%20%20%20%20%20%20%20%20%20%20%20%20%20%20%20%20%20%20position%3A%20relative%3B%0A%20%20%20%20%20%20%20%20%20%20%20%20%20%20%20%20%20%20%20%20width%3A%20100.0%25%3B%0A%20%20%20%20%20%20%20%20%20%20%20%20%20%20%20%20%20%20%20%20height%3A%20100.0%25%3B%0A%20%20%20%20%20%20%20%20%20%20%20%20%20%20%20%20%20%20%20%20left%3A%200.0%25%3B%0A%20%20%20%20%20%20%20%20%20%20%20%20%20%20%20%20%20%20%20%20top%3A%200.0%25%3B%0A%20%20%20%20%20%20%20%20%20%20%20%20%20%20%20%20%7D%0A%20%20%20%20%20%20%20%20%20%20%20%20%3C/style%3E%0A%20%20%20%20%20%20%20%20%0A%3C/head%3E%0A%3Cbody%3E%20%20%20%20%0A%20%20%20%20%0A%20%20%20%20%20%20%20%20%20%20%20%20%3Cdiv%20class%3D%22folium-map%22%20id%3D%22map_5b4391f270d5436fb4b69e49bae483dc%22%20%3E%3C/div%3E%0A%20%20%20%20%20%20%20%20%0A%3C/body%3E%0A%3Cscript%3E%20%20%20%20%0A%20%20%20%20%0A%20%20%20%20%20%20%20%20%20%20%20%20var%20map_5b4391f270d5436fb4b69e49bae483dc%20%3D%20L.map%28%0A%20%20%20%20%20%20%20%20%20%20%20%20%20%20%20%20%22map_5b4391f270d5436fb4b69e49bae483dc%22%2C%0A%20%20%20%20%20%20%20%20%20%20%20%20%20%20%20%20%7B%0A%20%20%20%20%20%20%20%20%20%20%20%20%20%20%20%20%20%20%20%20center%3A%20%5B21.12013377531396%2C%2096.5076078643626%5D%2C%0A%20%20%20%20%20%20%20%20%20%20%20%20%20%20%20%20%20%20%20%20crs%3A%20L.CRS.EPSG3857%2C%0A%20%20%20%20%20%20%20%20%20%20%20%20%20%20%20%20%20%20%20%20zoom%3A%2010%2C%0A%20%20%20%20%20%20%20%20%20%20%20%20%20%20%20%20%20%20%20%20zoomControl%3A%20true%2C%0A%20%20%20%20%20%20%20%20%20%20%20%20%20%20%20%20%20%20%20%20preferCanvas%3A%20false%2C%0A%20%20%20%20%20%20%20%20%20%20%20%20%20%20%20%20%7D%0A%20%20%20%20%20%20%20%20%20%20%20%20%29%3B%0A%0A%20%20%20%20%20%20%20%20%20%20%20%20%0A%0A%20%20%20%20%20%20%20%20%0A%20%20%20%20%0A%20%20%20%20%20%20%20%20%20%20%20%20var%20tile_layer_d6b9193f677e4914be31cdf54aa49859%20%3D%20L.tileLayer%28%0A%20%20%20%20%20%20%20%20%20%20%20%20%20%20%20%20%22https%3A//%7Bs%7D.tile.openstreetmap.org/%7Bz%7D/%7Bx%7D/%7By%7D.png%22%2C%0A%20%20%20%20%20%20%20%20%20%20%20%20%20%20%20%20%7B%22attribution%22%3A%20%22Data%20by%20%5Cu0026copy%3B%20%5Cu003ca%20href%3D%5C%22http%3A//openstreetmap.org%5C%22%5Cu003eOpenStreetMap%5Cu003c/a%5Cu003e%2C%20under%20%5Cu003ca%20href%3D%5C%22http%3A//www.openstreetmap.org/copyright%5C%22%5Cu003eODbL%5Cu003c/a%5Cu003e.%22%2C%20%22detectRetina%22%3A%20false%2C%20%22maxNativeZoom%22%3A%2018%2C%20%22maxZoom%22%3A%2018%2C%20%22minZoom%22%3A%200%2C%20%22noWrap%22%3A%20false%2C%20%22opacity%22%3A%201%2C%20%22subdomains%22%3A%20%22abc%22%2C%20%22tms%22%3A%20false%7D%0A%20%20%20%20%20%20%20%20%20%20%20%20%29.addTo%28map_5b4391f270d5436fb4b69e49bae483dc%29%3B%0A%20%20%20%20%20%20%20%20%0A%3C/script%3E onload=\"this.contentDocument.open();this.contentDocument.write(    decodeURIComponent(this.getAttribute('data-html')));this.contentDocument.close();\" allowfullscreen webkitallowfullscreen mozallowfullscreen></iframe></div></div>"
      ],
      "text/plain": [
       "<folium.folium.Map at 0x2591c188820>"
      ]
     },
     "metadata": {},
     "output_type": "display_data"
    },
    {
     "data": {
      "image/png": "[encoded data removed]",
      "text/plain": [
       "<Figure size 432x288 with 1 Axes>"
      ]
     },
     "metadata": {
      "needs_background": "light"
     },
     "output_type": "display_data"
    }
   ],
   "source": [
    "mmap=folium.Map(location = fcenter)\n",
    "plt.scatter(df2_lon, df2_lat, c = 'black', edgecolor = \"white\")\n",
    "display(mmap)"
   ]
  }
 ],
 "metadata": {
  "kernelspec": {
   "display_name": "Python 3 (ipykernel)",
   "language": "python",
   "name": "python3"
  },
  "language_info": {
   "codemirror_mode": {
    "name": "ipython",
    "version": 3
   },
   "file_extension": ".py",
   "mimetype": "text/x-python",
   "name": "python",
   "nbconvert_exporter": "python",
   "pygments_lexer": "ipython3",
   "version": "3.8.11"
  }
 },
 "nbformat": 4,
 "nbformat_minor": 5
}
